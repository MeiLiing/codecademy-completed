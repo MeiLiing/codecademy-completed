{
 "cells": [
  {
   "cell_type": "markdown",
   "source": [
    "# U.S. Medical Insurance Costs"
   ],
   "metadata": {}
  },
  {
   "cell_type": "code",
   "execution_count": 8,
   "source": [
    "import csv\r\n",
    "insurance_data = []\r\n",
    "with open('insurance.csv') as insurance_csv:\r\n",
    "    insurance_file = csv.DictReader(insurance_csv)\r\n",
    "    for row in insurance_file:\r\n",
    "        insurance_data.append(row)\r\n",
    "print(len(insurance_data))"
   ],
   "outputs": [
    {
     "output_type": "stream",
     "name": "stdout",
     "text": [
      "1338\n"
     ]
    }
   ],
   "metadata": {}
  },
  {
   "cell_type": "markdown",
   "source": [
    "Assign the data to individual variables."
   ],
   "metadata": {}
  },
  {
   "cell_type": "code",
   "execution_count": 9,
   "source": [
    "age = []\r\n",
    "sex = []\r\n",
    "bmi = []\r\n",
    "children = []\r\n",
    "smoker = []\r\n",
    "region = []\r\n",
    "charges = []\r\n",
    "for i in range(len(insurance_data)):\r\n",
    "    age.append(int(insurance_data[i]['age']))\r\n",
    "    sex.append(insurance_data[i]['sex'])\r\n",
    "    bmi.append(float(insurance_data[i]['bmi']))\r\n",
    "    children.append(int(insurance_data[i]['children']))\r\n",
    "    if insurance_data[i]['smoker'] == 'no':    \r\n",
    "        smoker.append(0)\r\n",
    "    elif insurance_data[i]['smoker'] == 'yes':\r\n",
    "        smoker.append(1)\r\n",
    "    region.append(insurance_data[i]['region'])\r\n",
    "    charges.append(float(insurance_data[i]['charges']))\r\n",
    "\r\n",
    "# Check that all data has been assigned to vaiables\r\n",
    "print(len(age))\r\n",
    "print(len(sex))\r\n",
    "print(len(bmi))\r\n",
    "print(len(children))\r\n",
    "print(len(charges))\r\n",
    "print(len(smoker))\r\n",
    "print(len(region))    "
   ],
   "outputs": [
    {
     "output_type": "stream",
     "name": "stdout",
     "text": [
      "1338\n",
      "1338\n",
      "1338\n",
      "1338\n",
      "1338\n",
      "1338\n",
      "1338\n"
     ]
    }
   ],
   "metadata": {}
  },
  {
   "cell_type": "code",
   "execution_count": 10,
   "source": [
    "# Function to calulate average given a list of integers\r\n",
    "def average_list(average_list):\r\n",
    "    total = 0\r\n",
    "    for a in average_list:\r\n",
    "        total += a\r\n",
    "    return total / len(average_list)"
   ],
   "outputs": [],
   "metadata": {}
  },
  {
   "cell_type": "markdown",
   "source": [
    "Find the average age of the patients in our dataset."
   ],
   "metadata": {}
  },
  {
   "cell_type": "code",
   "execution_count": 11,
   "source": [
    "print(average_list(age))\r\n",
    "print('The average age of the patients in the dataset is {age}.'.format(age = round(average_list(age),2)))"
   ],
   "outputs": [
    {
     "output_type": "stream",
     "name": "stdout",
     "text": [
      "39.20702541106129\n",
      "The average age of the patients in the dataset is 39.21.\n"
     ]
    }
   ],
   "metadata": {}
  },
  {
   "cell_type": "markdown",
   "source": [
    "Define a function to find out where the majority of the individuals are from."
   ],
   "metadata": {}
  },
  {
   "cell_type": "code",
   "execution_count": 12,
   "source": [
    "def majority_location(locations):\r\n",
    "    all_regions = set(locations)\r\n",
    "    count = 0\r\n",
    "    most = ''\r\n",
    "    for region in all_regions:\r\n",
    "        if locations.count(region) > count:\r\n",
    "            count = locations.count(region)\r\n",
    "            most = region\r\n",
    "    return count, most\r\n",
    "count, majority_region = majority_location(region)\r\n",
    "print('A majority of {count} patients come from the {region} region.'.format(count=count, region=majority_region))"
   ],
   "outputs": [
    {
     "output_type": "stream",
     "name": "stdout",
     "text": [
      "A majority of 364 patients come from the southeast region.\n"
     ]
    }
   ],
   "metadata": {}
  },
  {
   "cell_type": "markdown",
   "source": [
    "Extract the highest and lowest charge of a smoker and a non-smoker from the dataset.\r\n",
    "What is the difference between the average charge of a smoker versus a non-smoker?"
   ],
   "metadata": {}
  },
  {
   "cell_type": "code",
   "execution_count": 13,
   "source": [
    "smoker_insurance_costs = list(zip(smoker, charges))\r\n",
    "def smoker_insurance_diff(costs):\r\n",
    "    highest_charge_smoker = max([b for a,b in costs if a == 1])\r\n",
    "    lowest_charge_smoker = min([b for a,b in costs if a == 1])\r\n",
    "    highest_charge_nonsmoker = max([b for a,b in costs if a == 0])\r\n",
    "    lowest_charge_nonsmoker = min([b for a,b in costs if a == 0])\r\n",
    "    smoker_diff = average_list(costs[1]) - average_list(costs[0])\r\n",
    "    print('The highest insurance charge for a smoker is {high_smoker} dollars.'.format(high_smoker=highest_charge_smoker))\r\n",
    "    print('The highest insurance charge for a non-smoker is {high_nonsmoker} dollars.'.format(high_nonsmoker=highest_charge_nonsmoker))\r\n",
    "    print('The lowest insurance charge for a smoker is {low_smoker} dollars.'.format(low_smoker=lowest_charge_smoker))\r\n",
    "    print('The lowest insurance charge for a non-smoker is {low_nonsmoker} dollars.'.format(low_nonsmoker=lowest_charge_nonsmoker))\r\n",
    "    print('The difference between the average charge of a smoker versus a non-smoker from out patient list is {diff} dollars.'.format(diff=smoker_diff))\r\n",
    "smoker_insurance_diff(smoker_insurance_costs)\r\n"
   ],
   "outputs": [
    {
     "output_type": "stream",
     "name": "stdout",
     "text": [
      "The highest insurance charge for a smoker is 63770.42801 dollars.\n",
      "The highest insurance charge for a non-smoker is 36910.60803 dollars.\n",
      "The lowest insurance charge for a smoker is 12829.4551 dollars.\n",
      "The lowest insurance charge for a non-smoker is 1121.8739 dollars.\n",
      "The difference between the average charge of a smoker versus a non-smoker from out patient list is -7580.18585 dollars.\n"
     ]
    }
   ],
   "metadata": {}
  },
  {
   "cell_type": "markdown",
   "source": [
    "Find the average age for someone who has at least one child in this dataset."
   ],
   "metadata": {}
  },
  {
   "cell_type": "code",
   "execution_count": 14,
   "source": [
    "ages_with_children = zip(age, [a for a in children if a >= 1])\r\n",
    "avg_age_children = average_list([a for a,b in ages_with_children])\r\n",
    "print('The average age of someone with at least one child is {age}.'.format(age=round(avg_age_children,2)))"
   ],
   "outputs": [
    {
     "output_type": "stream",
     "name": "stdout",
     "text": [
      "The average age of someone with at least one child is 39.57.\n"
     ]
    }
   ],
   "metadata": {}
  },
  {
   "cell_type": "markdown",
   "source": [
    "Divide smokers into age categories."
   ],
   "metadata": {}
  },
  {
   "cell_type": "code",
   "execution_count": 16,
   "source": [
    "def sort_smokers(smokers):\r\n",
    "    age_categories = {'Children':14, 'Youth':24, 'Adults':64}\r\n",
    "    smokers_age_list = {'Children': [], 'Youth': [], 'Adults': [], 'Seniors': []}\r\n",
    "    smokers_age_cat = {'Children': 0, 'Youth':0, 'Adults':0, 'Seniors':0}\r\n",
    "    for patient in insurance_data:\r\n",
    "        if patient['smoker'] == 'yes':\r\n",
    "            if int(patient['age']) <= age_categories['Children']:\r\n",
    "                smokers_age_list['Children'].append(patient)\r\n",
    "                smokers_age_cat['Children'] +=1\r\n",
    "            elif int(patient['age']) <= age_categories['Youth']:\r\n",
    "                smokers_age_list['Youth'].append(patient)\r\n",
    "                smokers_age_cat['Youth'] +=1\r\n",
    "            elif int(patient['age']) <= age_categories['Adults']:\r\n",
    "                smokers_age_list['Adults'].append(patient)\r\n",
    "                smokers_age_cat['Adults'] +=1\r\n",
    "            else:\r\n",
    "                smokers_age_list['Senios'].append(patient)\r\n",
    "                smokers_age_cat['Seniors'] +=1\r\n",
    "    return smokers_age_list, smokers_age_cat\r\n",
    "\r\n",
    "smokers_age_cat, smokers_age_list = sort_smokers(insurance_data)\r\n",
    "print(smokers_age_list)"
   ],
   "outputs": [
    {
     "output_type": "stream",
     "name": "stdout",
     "text": [
      "{'Children': 0, 'Youth': 60, 'Adults': 214, 'Seniors': 0}\n"
     ]
    }
   ],
   "metadata": {}
  }
 ],
 "metadata": {
  "kernelspec": {
   "name": "python3",
   "display_name": "Python 3.9.6 32-bit"
  },
  "language_info": {
   "codemirror_mode": {
    "name": "ipython",
    "version": 3
   },
   "file_extension": ".py",
   "mimetype": "text/x-python",
   "name": "python",
   "nbconvert_exporter": "python",
   "pygments_lexer": "ipython3",
   "version": "3.9.6"
  },
  "interpreter": {
   "hash": "4a15dfcadd1aded6174b80295c0663087cee3af9023cfea747ba1773ba9a8e74"
  }
 },
 "nbformat": 4,
 "nbformat_minor": 4
}