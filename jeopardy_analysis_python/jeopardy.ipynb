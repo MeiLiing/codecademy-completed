{
 "cells": [
  {
   "cell_type": "code",
   "execution_count": 1,
   "metadata": {},
   "outputs": [],
   "source": [
    "import pandas as pd\n",
    "pd.set_option('display.max_colwidth', None)"
   ]
  },
  {
   "cell_type": "code",
   "execution_count": 2,
   "metadata": {},
   "outputs": [],
   "source": [
    "df = pd.read_csv('jeopardy.csv')\n",
    "df.columns = ['show_number', 'air_date', 'round', 'category', 'value', 'question', 'answer']\n",
    "# Change the values in the 'value' column to floats\n",
    "df['value'] = df.apply(lambda x: float(x.value.strip('$').replace(',','')) if x.value != 'None' else 0, axis = 1)"
   ]
  },
  {
   "cell_type": "code",
   "execution_count": 5,
   "metadata": {},
   "outputs": [],
   "source": [
    "# This function returns a filtered dataframe of the questions containing the given keywords.\n",
    "def search_questions(dataframe, words_list):\n",
    "  question_indexes = []\n",
    "  for i in range(len(df)):\n",
    "    are_in = 0\n",
    "    for word in words_list:\n",
    "      if word.lower() in dataframe.iloc[i]['question'].lower():\n",
    "        are_in += 1\n",
    "      if are_in == len(words_list):\n",
    "        question_indexes.append(i)\n",
    "  return df.iloc[question_indexes]\n",
    "\n",
    "# Function test:\n",
    "words = ['King','England']\n",
    "# print(search_questions(df, words))\n",
    "# returns a dataframe of 152 questions\n",
    "\n",
    "value_of_a_king = search_questions(df,['King']).value.mean()\n",
    "# print(value_of_a_king)"
   ]
  },
  {
   "cell_type": "code",
   "execution_count": 6,
   "metadata": {},
   "outputs": [
    {
     "name": "stdout",
     "output_type": "stream",
     "text": [
      "round                     category  Double Jeopardy!  Final Jeopardy!  \\\n",
      "0       A JIM CARREY FILM FESTIVAL               NaN              NaN   \n",
      "1                              \"!\"               NaN              NaN   \n",
      "2                          \"-ARES\"               5.0              NaN   \n",
      "3              \"-ICIAN\" EXPEDITION               NaN              NaN   \n",
      "4                    \"...OD\" WORDS               5.0              NaN   \n",
      "...                            ...               ...              ...   \n",
      "27990                   “R” MOVIES               5.0              NaN   \n",
      "27991                     “SAINTS”               4.0              NaN   \n",
      "27992                      “SOUTH”               5.0              NaN   \n",
      "27993                    “STREETS”               NaN              NaN   \n",
      "27994                “WH”AT IS IT?               5.0              NaN   \n",
      "\n",
      "round  Jeopardy!  Tiebreaker  \n",
      "0            5.0         NaN  \n",
      "1            5.0         NaN  \n",
      "2            NaN         NaN  \n",
      "3            5.0         NaN  \n",
      "4            NaN         NaN  \n",
      "...          ...         ...  \n",
      "27990        NaN         NaN  \n",
      "27991        NaN         NaN  \n",
      "27992        NaN         NaN  \n",
      "27993        5.0         NaN  \n",
      "27994        NaN         NaN  \n",
      "\n",
      "[27995 rows x 5 columns]\n",
      "Index(['category', 'Double Jeopardy!', 'Final Jeopardy!', 'Jeopardy!',\n",
      "       'Tiebreaker'],\n",
      "      dtype='object', name='round')\n",
      "round    category  Double Jeopardy!  Final Jeopardy!  Jeopardy!  Tiebreaker\n",
      "14483  LITERATURE             381.0             10.0      105.0         NaN\n"
     ]
    }
   ],
   "source": [
    "# Count the number of unique answers in a dataframe\n",
    "def count_unique_answer(dataframe=df):\n",
    "  return dataframe.answer.value_counts()\n",
    "# print(count_unique_answer(search_questions(df, words)))\n",
    "\n",
    "round_category = df.groupby(['round','category']).answer.count().reset_index()\n",
    "round_category_pivot = round_category.pivot(index='category', columns='round', values='answer').reset_index()\n",
    "print(round_category_pivot)\n",
    "print(round_category_pivot.columns)\n",
    "print(round_category_pivot[round_category_pivot.category == 'LITERATURE'])"
   ]
  }
 ],
 "metadata": {
  "interpreter": {
   "hash": "b1e00c4c02fc48333235efc75f03fb75457c436b3b1518e216c638d11215803d"
  },
  "kernelspec": {
   "display_name": "Python 3.9.7 64-bit ('base': conda)",
   "language": "python",
   "name": "python3"
  },
  "language_info": {
   "codemirror_mode": {
    "name": "ipython",
    "version": 3
   },
   "file_extension": ".py",
   "mimetype": "text/x-python",
   "name": "python",
   "nbconvert_exporter": "python",
   "pygments_lexer": "ipython3",
   "version": "3.9.7"
  },
  "orig_nbformat": 4
 },
 "nbformat": 4,
 "nbformat_minor": 2
}
